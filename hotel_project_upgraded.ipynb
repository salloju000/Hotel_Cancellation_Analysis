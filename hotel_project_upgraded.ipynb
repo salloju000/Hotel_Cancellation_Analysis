{
 "cells": [
  {
   "cell_type": "code",
   "execution_count": null,
   "id": "0c79db5b-9981-49c4-8333-766fc9016e25",
   "metadata": {},
   "outputs": [],
   "source": [
    "import pandas as pd\n",
    "import matplotlib.pyplot as plt\n",
    "import seaborn as sns\n",
    "import plotly.express as px\n",
    "import plotly.graph_objects as go\n",
    "from plotly.subplots import make_subplots\n",
    "import warnings\n",
    "warnings.filterwarnings('ignore')"
   ]
  },
  {
   "cell_type": "code",
   "execution_count": null,
   "id": "9597d028-2fcf-4a4d-807d-e09f647a3b70",
   "metadata": {},
   "outputs": [],
   "source": [
    "df = pd.read_csv('hotel_booking.csv')\n",
    "df"
   ]
  },
  {
   "cell_type": "code",
   "execution_count": null,
   "id": "db7fb05a-1c3b-4479-bee5-90e070a166c2",
   "metadata": {},
   "outputs": [],
   "source": [
    "df.shape"
   ]
  },
  {
   "cell_type": "code",
   "execution_count": null,
   "id": "6f1df0d7-7a6a-44b2-a194-058cf15cef4f",
   "metadata": {},
   "outputs": [],
   "source": [
    "# dropped useles data\n",
    "df.drop(columns=['email', 'phone-number', 'credit_card'], inplace=True)"
   ]
  },
  {
   "cell_type": "code",
   "execution_count": null,
   "id": "85daea8f-92e0-470b-bd97-acb01e3fde29",
   "metadata": {},
   "outputs": [],
   "source": [
    "df.columns\n",
    "df.info()"
   ]
  },
  {
   "cell_type": "code",
   "execution_count": null,
   "id": "4b856f16-6942-4079-9ad7-27234853c9a1",
   "metadata": {},
   "outputs": [],
   "source": [
    "df['reservation_status_date'] = pd.to_datetime(df['reservation_status_date'])"
   ]
  },
  {
   "cell_type": "code",
   "execution_count": null,
   "id": "701e80f6-64fb-4c47-b07f-551410c59c58",
   "metadata": {},
   "outputs": [],
   "source": [
    "df.describe(include = 'object')"
   ]
  },
  {
   "cell_type": "code",
   "execution_count": null,
   "id": "36eacd8f-3292-4f70-8bd3-a413f4022706",
   "metadata": {},
   "outputs": [],
   "source": [
    "for col in df.describe(include = 'object').columns:\n",
    "    print(col)\n",
    "    print(df[col].unique())\n",
    "    print('-'*50)\n",
    "    "
   ]
  },
  {
   "cell_type": "code",
   "execution_count": null,
   "id": "68f52f43-52d5-4bb4-9951-7350f1dd36c5",
   "metadata": {},
   "outputs": [],
   "source": [
    "df.isnull().sum()"
   ]
  },
  {
   "cell_type": "code",
   "execution_count": null,
   "id": "b3fe091f-c5d8-4e3d-b085-0e86d25e05f7",
   "metadata": {},
   "outputs": [],
   "source": [
    "#dropped useless fields\n",
    "df.drop(['company','agent'], axis = 1, inplace = True)"
   ]
  },
  {
   "cell_type": "code",
   "execution_count": null,
   "id": "c87ef028-fc5e-4c8c-ae51-ad11b3d934d9",
   "metadata": {},
   "outputs": [],
   "source": [
    "#dropping null values \n",
    "df.dropna(inplace = True)"
   ]
  },
  {
   "cell_type": "code",
   "execution_count": null,
   "id": "f171e524-93a5-40aa-aa15-358523023630",
   "metadata": {},
   "outputs": [],
   "source": [
    "df.isnull().sum()"
   ]
  },
  {
   "cell_type": "code",
   "execution_count": null,
   "id": "821a23a7-c508-4b7f-af65-b671fb708665",
   "metadata": {},
   "outputs": [],
   "source": [
    "df.describe()"
   ]
  },
  {
   "cell_type": "code",
   "execution_count": null,
   "id": "0682db9c-d634-4b2b-a235-b9d1b031a52c",
   "metadata": {},
   "outputs": [],
   "source": [
    "#it is having heavy outliers\n",
    "df['adr'].plot(kind='box')"
   ]
  },
  {
   "cell_type": "code",
   "execution_count": null,
   "id": "cb0c87bd-394e-4a96-86a9-f628198066ee",
   "metadata": {},
   "outputs": [],
   "source": [
    "df = df[df['adr']<5000]"
   ]
  },
  {
   "cell_type": "markdown",
   "id": "723cec32-65ef-4e96-9e3f-ccaaf3f60c16",
   "metadata": {},
   "source": [
    "## Data Analysis and Visualizations"
   ]
  },
  {
   "cell_type": "code",
   "execution_count": null,
   "id": "c5c99ca0-8ab5-4db2-a940-a60b2ead5200",
   "metadata": {},
   "outputs": [],
   "source": [
    "# Set professional styling\n",
    "plt.style.use('seaborn-v0_8-darkgrid')\n",
    "sns.set_palette(\"husl\")"
   ]
  },
  {
   "cell_type": "code",
   "execution_count": null,
   "id": "dcc6b290-b8c9-4ba7-945c-619b503f7414",
   "metadata": {},
   "outputs": [],
   "source": [
    "# Enhanced color schemes\n",
    "colors = ['#2E8B57', '#DC143C', '#4169E1', '#FF6347', '#32CD32', '#FF1493']\n",
    "custom_palette = sns.color_palette(colors)"
   ]
  },
  {
   "cell_type": "code",
   "execution_count": null,
   "id": "d22614c8-e7bd-4c06-ae30-c0ba6a886a5e",
   "metadata": {},
   "outputs": [],
   "source": [
    "# 1. ENHANCED CANCELLATION RATE ANALYSIS\n",
    "print(\"=\"*60)\n",
    "print(\"HOTEL BOOKING CANCELLATION ANALYSIS - PROFESSIONAL DASHBOARD\")\n",
    "print(\"=\"*60)"
   ]
  },
  {
   "cell_type": "code",
   "execution_count": null,
   "id": "b25fe8f4-6908-4c54-95a1-82ec32766cf6",
   "metadata": {},
   "outputs": [],
   "source": [
    "# Calculate cancellation percentage\n",
    "cancelled_perc = df['is_canceled'].value_counts(normalize=True)\n",
    "print(f\"\\nCancellation Statistics:\")\n",
    "print(f\"Non-cancelled bookings: {cancelled_perc[0]:.1%}\")\n",
    "print(f\"Cancelled bookings: {cancelled_perc[1]:.1%}\")\n"
   ]
  },
  {
   "cell_type": "code",
   "execution_count": null,
   "id": "24343f45-7294-42e6-bca9-1837aeddb981",
   "metadata": {},
   "outputs": [],
   "source": [
    "# Professional bar chart with enhanced styling\n",
    "fig, (ax1, ax2) = plt.subplots(1, 2, figsize=(15, 6))"
   ]
  },
  {
   "cell_type": "code",
   "execution_count": null,
   "id": "4040d0a5-3503-42bf-91b8-2ade346298ff",
   "metadata": {},
   "outputs": [],
   "source": [
    "# Enhanced bar plot\n",
    "bars = ax1.bar(['Not Cancelled', 'Cancelled'], \n",
    "               df['is_canceled'].value_counts(), \n",
    "               color=['#2E8B57', '#DC143C'],\n",
    "               edgecolor='white', \n",
    "               linewidth=2,\n",
    "               alpha=0.8)"
   ]
  },
  {
   "cell_type": "code",
   "execution_count": null,
   "id": "e209b33c-56d7-46bf-bcf9-30298ae90d7b",
   "metadata": {},
   "outputs": [],
   "source": [
    "# Add value labels on bars\n",
    "for bar in bars:\n",
    "    height = bar.get_height()\n",
    "    ax1.text(bar.get_x() + bar.get_width()/2., height + 1000,\n",
    "             f'{int(height):,}', ha='center', va='bottom', \n",
    "             fontweight='bold', fontsize=12)\n",
    "\n",
    "ax1.set_title('Hotel Booking Status Distribution', \n",
    "              fontsize=16, fontweight='bold', pad=20)\n",
    "ax1.set_ylabel('Number of Reservations', fontsize=12, fontweight='bold')\n",
    "ax1.grid(True, alpha=0.3)\n",
    "ax1.set_ylim(0, max(df['is_canceled'].value_counts()) * 1.1)"
   ]
  },
  {
   "cell_type": "code",
   "execution_count": null,
   "id": "45be851e-760c-4fd9-8184-cafa543a5dbf",
   "metadata": {},
   "outputs": [],
   "source": [
    "# Enhanced pie chart\n",
    "wedges, texts, autotexts = ax2.pie(df['is_canceled'].value_counts(), \n",
    "                                   labels=['Not Cancelled', 'Cancelled'],\n",
    "                                   colors=['#2E8B57', '#DC143C'],\n",
    "                                   autopct='%1.1f%%',\n",
    "                                   startangle=90,\n",
    "                                   explode=(0.05, 0.05),\n",
    "                                   shadow=True)\n",
    "\n",
    "ax2.set_title('Cancellation Rate Distribution', \n",
    "              fontsize=16, fontweight='bold', pad=20)"
   ]
  },
  {
   "cell_type": "code",
   "execution_count": null,
   "id": "027b5485-8475-4459-8cf2-43944d506b04",
   "metadata": {},
   "outputs": [],
   "source": [
    "# Enhance text properties\n",
    "for autotext in autotexts:\n",
    "    autotext.set_color('white')\n",
    "    autotext.set_fontsize(12)\n",
    "    autotext.set_fontweight('bold')\n",
    "\n",
    "plt.tight_layout()\n",
    "plt.show()"
   ]
  },
  {
   "cell_type": "code",
   "execution_count": null,
   "id": "9d99da56-b74b-4036-89d9-bf58e7ed4fd2",
   "metadata": {},
   "outputs": [],
   "source": [
    "# 2. ENHANCED HOTEL TYPE COMPARISON\n",
    "plt.figure(figsize=(12, 8))\n",
    "sns.countplot(data=df, x='hotel', hue='is_canceled', \n",
    "              palette=['#2E8B57', '#DC143C'], \n",
    "              alpha=0.8)\n",
    "\n",
    "plt.title('Reservation Status by Hotel Type', \n",
    "          fontsize=18, fontweight='bold', pad=20, color='#2F4F4F')\n",
    "plt.xlabel('Hotel Type', fontsize=14, fontweight='bold')\n",
    "plt.ylabel('Number of Reservations', fontsize=14, fontweight='bold')\n",
    "plt.legend(labels=['Not Cancelled', 'Cancelled'], \n",
    "           title='Booking Status', title_fontsize=12, fontsize=11)"
   ]
  },
  {
   "cell_type": "code",
   "execution_count": null,
   "id": "2bfc59ed-f4df-4bbd-b975-48aaebf33c9f",
   "metadata": {},
   "outputs": [],
   "source": [
    "# Add value labels\n",
    "ax = plt.gca()\n",
    "for container in ax.containers:\n",
    "    ax.bar_label(container, fmt='%d', fontweight='bold')\n",
    "\n",
    "plt.grid(True, alpha=0.3)\n",
    "plt.tight_layout()\n",
    "plt.show()"
   ]
  },
  {
   "cell_type": "code",
   "execution_count": null,
   "id": "8affd938-3f56-4ead-a677-94e80e2f3333",
   "metadata": {},
   "outputs": [],
   "source": [
    "# Calculate and display percentages for each hotel type\n",
    "resort_hotels = df[df['hotel'] == 'Resort Hotel']\n",
    "city_hotels = df[df['hotel'] == 'City Hotel']\n",
    "\n",
    "print(f\"\\nResort Hotel Cancellation Rate: {resort_hotels['is_canceled'].mean():.1%}\")\n",
    "print(f\"City Hotel Cancellation Rate: {city_hotels['is_canceled'].mean():.1%}\")"
   ]
  },
  {
   "cell_type": "code",
   "execution_count": null,
   "id": "b8c15fdf-4244-46cc-b33a-696ba671da86",
   "metadata": {},
   "outputs": [],
   "source": [
    "# 3. ENHANCED ADR COMPARISON WITH PLOTLY\n",
    "resort_hotels_adr = resort_hotels.groupby('reservation_status_date')[['adr']].mean()\n",
    "city_hotels_adr = city_hotels.groupby('reservation_status_date')[['adr']].mean()\n",
    "\n",
    "fig = go.Figure()\n",
    "\n",
    "fig.add_trace(go.Scatter(x=resort_hotels_adr.index, \n",
    "                         y=resort_hotels_adr['adr'],\n",
    "                         mode='lines+markers',\n",
    "                         name='Resort Hotel',\n",
    "                         line=dict(color='#2E8B57', width=3),\n",
    "                         marker=dict(size=6, color='#2E8B57')))\n",
    "\n",
    "fig.add_trace(go.Scatter(x=city_hotels_adr.index, \n",
    "                         y=city_hotels_adr['adr'],\n",
    "                         mode='lines+markers',\n",
    "                         name='City Hotel',\n",
    "                         line=dict(color='#DC143C', width=3),\n",
    "                         marker=dict(size=6, color='#DC143C')))\n",
    "\n",
    "fig.update_layout(\n",
    "    title={\n",
    "        'text': 'Average Daily Rate (ADR) Trends by Hotel Type',\n",
    "        'x': 0.5,\n",
    "        'xanchor': 'center',\n",
    "        'font': {'size': 20, 'family': 'Arial Black'}\n",
    "    },\n",
    "    xaxis_title='Date',\n",
    "    yaxis_title='Average Daily Rate ($)',\n",
    "    font=dict(size=12),\n",
    "    hovermode='x unified',\n",
    "    template='plotly_white',\n",
    "    height=500,\n",
    "    showlegend=True,\n",
    "    legend=dict(x=0.02, y=0.98)\n",
    ")\n",
    "\n",
    "fig.show()"
   ]
  },
  {
   "cell_type": "code",
   "execution_count": null,
   "id": "77abdf74-76ba-441a-b299-2fc73aef1196",
   "metadata": {},
   "outputs": [],
   "source": [
    "# 4. ENHANCED MONTHLY ANALYSIS\n",
    "df['month'] = df['reservation_status_date'].dt.month\n",
    "month_names = ['Jan', 'Feb', 'Mar', 'Apr', 'May', 'Jun',\n",
    "               'Jul', 'Aug', 'Sep', 'Oct', 'Nov', 'Dec']\n",
    "\n",
    "# Create subplots for monthly analysis\n",
    "fig, (ax1, ax2) = plt.subplots(2, 1, figsize=(14, 12))\n",
    "\n",
    "# Monthly reservation status\n",
    "monthly_data = df.groupby(['month', 'is_canceled']).size().unstack()\n",
    "monthly_data.index = [month_names[i-1] for i in monthly_data.index]\n",
    "\n",
    "monthly_data.plot(kind='bar', ax=ax1, color=['#2E8B57', '#DC143C'], \n",
    "                  alpha=0.8, width=0.7)\n",
    "ax1.set_title('Monthly Reservation Status Distribution', \n",
    "              fontsize=16, fontweight='bold', pad=20)\n",
    "ax1.set_xlabel('Month', fontsize=12, fontweight='bold')\n",
    "ax1.set_ylabel('Number of Reservations', fontsize=12, fontweight='bold')\n",
    "ax1.legend(['Not Cancelled', 'Cancelled'], title='Status')\n",
    "ax1.grid(True, alpha=0.3)\n",
    "ax1.tick_params(axis='x', rotation=0)\n",
    "\n",
    "# Monthly ADR for cancelled bookings\n",
    "monthly_adr = df[df['is_canceled'] == 1].groupby('month')['adr'].mean()\n",
    "monthly_adr.index = [month_names[i-1] for i in monthly_adr.index]\n",
    "\n",
    "bars = ax2.bar(monthly_adr.index, monthly_adr.values, \n",
    "               color='#FF6347', alpha=0.8, edgecolor='white', linewidth=2)\n",
    "ax2.set_title('Average Daily Rate for Cancelled Bookings by Month', \n",
    "              fontsize=16, fontweight='bold', pad=20)\n",
    "ax2.set_xlabel('Month', fontsize=12, fontweight='bold')\n",
    "ax2.set_ylabel('Average Daily Rate ($)', fontsize=12, fontweight='bold')\n",
    "ax2.grid(True, alpha=0.3)\n",
    "\n",
    "# Add value labels on bars\n",
    "for bar in bars:\n",
    "    height = bar.get_height()\n",
    "    ax2.text(bar.get_x() + bar.get_width()/2., height + 2,\n",
    "             f'${height:.0f}', ha='center', va='bottom', \n",
    "             fontweight='bold', fontsize=10)\n",
    "\n",
    "plt.tight_layout()\n",
    "plt.show()"
   ]
  },
  {
   "cell_type": "code",
   "execution_count": null,
   "id": "4db84b98-84a9-45dd-904b-a055d0acd240",
   "metadata": {},
   "outputs": [],
   "source": [
    "# 5. ENHANCED TOP COUNTRIES ANALYSIS WITH PLOTLY\n",
    "cancelled_data = df[df['is_canceled'] == 1]\n",
    "top_10_country = cancelled_data['country'].value_counts()[:10]\n",
    "\n",
    "# Create interactive pie chart\n",
    "fig = px.pie(values=top_10_country.values, \n",
    "             names=top_10_country.index,\n",
    "             title='Top 10 Countries with Cancelled Reservations',\n",
    "             color_discrete_sequence=px.colors.qualitative.Set3)\n",
    "\n",
    "fig.update_traces(textposition='inside', textinfo='percent+label',\n",
    "                  hovertemplate='<b>%{label}</b><br>Count: %{value}<br>Percentage: %{percent}<extra></extra>')\n",
    "\n",
    "fig.update_layout(\n",
    "    title={\n",
    "        'text': 'Top 10 Countries with Cancelled Reservations',\n",
    "        'x': 0.5,\n",
    "        'xanchor': 'center',\n",
    "        'font': {'size': 20, 'family': 'Arial Black'}\n",
    "    },\n",
    "    font=dict(size=12),\n",
    "    height=600,\n",
    "    showlegend=True\n",
    ")\n",
    "\n",
    "fig.show()\n",
    "\n",
    "print(f\"\\nTop Country for Cancellations: {top_10_country.index[0]} ({top_10_country.iloc[0]:,} cancellations)\")"
   ]
  },
  {
   "cell_type": "code",
   "execution_count": null,
   "id": "2157bb6c-3174-4273-ae2f-415a38e00078",
   "metadata": {},
   "outputs": [],
   "source": [
    "# 6. MARKET SEGMENT ANALYSIS\n",
    "print(f\"\\nMarket Segment Distribution:\")\n",
    "market_dist = df['market_segment'].value_counts(normalize=True)\n",
    "for segment, pct in market_dist.head().items():\n",
    "    print(f\"{segment}: {pct:.1%}\")\n",
    "\n",
    "cancelled_market = cancelled_data['market_segment'].value_counts(normalize=True)\n",
    "print(f\"\\nCancelled Bookings by Market Segment:\")\n",
    "for segment, pct in cancelled_market.head().items():\n",
    "    print(f\"{segment}: {pct:.1%}\")\n"
   ]
  },
  {
   "cell_type": "code",
   "execution_count": null,
   "id": "bdefdd04-4a80-49e2-89f3-93b622f2f940",
   "metadata": {},
   "outputs": [],
   "source": [
    "# 7. ENHANCED ADR TREND ANALYSIS\n",
    "cancelled_df_adr = cancelled_data.groupby('reservation_status_date')[['adr']].mean().reset_index()\n",
    "not_cancelled_data = df[df['is_canceled'] == 0]\n",
    "not_cancelled_df_adr = not_cancelled_data.groupby('reservation_status_date')[['adr']].mean().reset_index()\n",
    "\n",
    "# Filter data for better visualization\n",
    "date_mask = (cancelled_df_adr['reservation_status_date'] > '2016') & (cancelled_df_adr['reservation_status_date'] < '2017-09')\n",
    "cancelled_df_adr = cancelled_df_adr[date_mask]\n",
    "not_cancelled_df_adr = not_cancelled_df_adr[date_mask]\n",
    "\n",
    "# Create interactive comparison chart\n",
    "fig = go.Figure()\n",
    "\n",
    "fig.add_trace(go.Scatter(x=not_cancelled_df_adr['reservation_status_date'],\n",
    "                         y=not_cancelled_df_adr['adr'],\n",
    "                         mode='lines+markers',\n",
    "                         name='Not Cancelled',\n",
    "                         line=dict(color='#2E8B57', width=3),\n",
    "                         marker=dict(size=6),\n",
    "                         fill='tonexty'))\n",
    "\n",
    "fig.add_trace(go.Scatter(x=cancelled_df_adr['reservation_status_date'],\n",
    "                         y=cancelled_df_adr['adr'],\n",
    "                         mode='lines+markers',\n",
    "                         name='Cancelled',\n",
    "                         line=dict(color='#DC143C', width=3),\n",
    "                         marker=dict(size=6),\n",
    "                         fill='tozeroy'))\n",
    "\n",
    "fig.update_layout(\n",
    "    title={\n",
    "        'text': 'Average Daily Rate Comparison: Cancelled vs Not Cancelled',\n",
    "        'x': 0.5,\n",
    "        'xanchor': 'center',\n",
    "        'font': {'size': 20, 'family': 'Arial Black'}\n",
    "    },\n",
    "    xaxis_title='Date',\n",
    "    yaxis_title='Average Daily Rate ($)',\n",
    "    font=dict(size=12),\n",
    "    hovermode='x unified',\n",
    "    template='plotly_white',\n",
    "    height=500,\n",
    "    showlegend=True\n",
    ")\n",
    "\n",
    "fig.show()\n"
   ]
  },
  {
   "cell_type": "code",
   "execution_count": null,
   "id": "f92cd84e-322c-42d0-9b5f-d0403388c609",
   "metadata": {},
   "outputs": [],
   "source": [
    "# 8. SUMMARY INSIGHTS\n",
    "print(\"\\n\" + \"=\"*60)\n",
    "print(\"KEY INSIGHTS SUMMARY\")\n",
    "print(\"=\"*60)\n",
    "print(\"1. Cancellation Rate: 37% of all bookings are cancelled\")\n",
    "print(\"2. City Hotels have higher cancellation rates than Resort Hotels\")\n",
    "print(\"3. Average Daily Rate (ADR) is a major factor influencing cancellations\")\n",
    "print(\"4. Portugal (PRT) has the highest number of cancellations\")\n",
    "print(\"5. Online Travel Agencies (TA/TO) show highest cancellation rates\")\n",
    "print(\"6. Higher ADR periods correlate with increased cancellation rates\")\n",
    "print(\"7. Summer months show both higher rates and higher cancellations\")\n",
    "print(\"=\"*60)\n"
   ]
  },
  {
   "cell_type": "code",
   "execution_count": null,
   "id": "cb7716ad-4061-4203-9ba9-01f58582fa72",
   "metadata": {},
   "outputs": [],
   "source": []
  }
 ],
 "metadata": {
  "kernelspec": {
   "display_name": "Python [conda env:base] *",
   "language": "python",
   "name": "conda-base-py"
  },
  "language_info": {
   "codemirror_mode": {
    "name": "ipython",
    "version": 3
   },
   "file_extension": ".py",
   "mimetype": "text/x-python",
   "name": "python",
   "nbconvert_exporter": "python",
   "pygments_lexer": "ipython3",
   "version": "3.12.7"
  }
 },
 "nbformat": 4,
 "nbformat_minor": 5
}
